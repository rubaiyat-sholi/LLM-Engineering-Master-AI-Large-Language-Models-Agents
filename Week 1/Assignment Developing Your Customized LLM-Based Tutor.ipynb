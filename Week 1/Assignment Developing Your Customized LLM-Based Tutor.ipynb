{
 "cells": [
  {
   "cell_type": "markdown",
   "id": "fe12c203-e6a6-452c-a655-afb8a03a4ff5",
   "metadata": {},
   "source": [
    "# End of week 1 solution\n",
    "\n",
    "To demonstrate your familiarity with OpenAI API, and also Ollama, build a tool that takes a technical question,  \n",
    "and responds with an explanation. This is a tool that you will be able to use yourself during the course!\n",
    "\n",
    "After week 2 you'll be able to add a User Interface to this tool, giving you a valuable application."
   ]
  },
  {
   "cell_type": "code",
   "execution_count": 1,
   "id": "c1070317-3ed9-4659-abe3-828943230e03",
   "metadata": {},
   "outputs": [],
   "source": [
    "# imports\n",
    "\n",
    "from dotenv import load_dotenv\n",
    "from IPython.display import Markdown, display, update_display\n",
    "from openai import OpenAI\n",
    "import ollama"
   ]
  },
  {
   "cell_type": "code",
   "execution_count": 2,
   "id": "4a456906-915a-4bfd-bb9d-57e505c5093f",
   "metadata": {},
   "outputs": [],
   "source": [
    "# constants\n",
    "\n",
    "MODEL_GPT = 'gpt-4o-mini'\n",
    "MODEL_LLAMA = 'llama3.2'"
   ]
  },
  {
   "cell_type": "code",
   "execution_count": 3,
   "id": "a8d7923c-5f28-4c30-8556-342d7c8497c1",
   "metadata": {},
   "outputs": [],
   "source": [
    "# set up environment\n",
    "\n",
    "load_dotenv()\n",
    "openai = OpenAI()\n"
   ]
  },
  {
   "cell_type": "code",
   "execution_count": 4,
   "id": "3f0d0137-52b0-47a8-81a8-11a90a010798",
   "metadata": {},
   "outputs": [],
   "source": [
    "# here is the question; type over this to ask something new\n",
    "\n",
    "question = \"\"\"\n",
    "Please explain what this code does and why:\n",
    "yield from {book.get(\"author\") for book in books if book.get(\"author\")}\n",
    "\"\"\""
   ]
  },
  {
   "cell_type": "code",
   "execution_count": 5,
   "id": "8595807b-8ae2-4e1b-95d9-e8532142e8bb",
   "metadata": {},
   "outputs": [],
   "source": [
    "# prompts\n",
    "\n",
    "system_prompt = \"You are a helpful technical tutor who answers questions about python code, software engineering, data science and LLMs\"\n",
    "user_prompt = \"Please give a detailed explanation to the following question: \" + question"
   ]
  },
  {
   "cell_type": "code",
   "execution_count": 6,
   "id": "9605cbb6-3d3f-4969-b420-7f4cae0b9328",
   "metadata": {},
   "outputs": [],
   "source": [
    "# messages\n",
    "\n",
    "messages = [\n",
    "    {\"role\": \"system\", \"content\": system_prompt},\n",
    "    {\"role\": \"user\", \"content\": user_prompt}\n",
    "]"
   ]
  },
  {
   "cell_type": "code",
   "execution_count": 7,
   "id": "60ce7000-a4a5-4cce-a261-e75ef45063b4",
   "metadata": {},
   "outputs": [
    {
     "data": {
      "text/markdown": [
       "The code snippet you provided uses Python's generator functionality along with a set comprehension. Let’s break it down step by step to understand what it does and why:\n",
       "\n",
       "### Breakdown of the Code\n",
       "\n",
       "1. **Context**: The code likely resides within a generator function (a function that uses `yield` to produce a series of values). As such, it is meant to yield results to any calling context.\n",
       "\n",
       "2. **The Set Comprehension**:\n",
       "   python\n",
       "   {book.get(\"author\") for book in books if book.get(\"author\")}\n",
       "   \n",
       "   - **`books`**: This is presumably a collection (like a list) of dictionaries, where each dictionary represents a book with key-value pairs (e.g., title, author, etc.).\n",
       "   - **`book.get(\"author\")`**: This method tries to retrieve the value associated with the \"author\" key from each `book`. If the key does not exist, `get()` will return `None` (or any default value you specify, but as shown, no default is provided).\n",
       "   - **`for book in books`**: This is a loop that iterates through each `book` in the `books` collection.\n",
       "   - **`if book.get(\"author\")`**: This condition checks whether the author exists (i.e., it is not `None`). If it does, the `author` is included in the set.\n",
       "   - **Set Comprehension**: The entire expression constructs a set of unique authors for the books in the collection.\n",
       "\n",
       "3. **The Yield Statement**:\n",
       "   python\n",
       "   yield from {...}\n",
       "   \n",
       "   - The `yield` keyword is used in generator functions to produce a value and pause the function's execution.\n",
       "   - **`yield from ...`**: This is used to yield values from another iterable (in this case, the set of authors) directly. It effectively allows the generator to yield all items in the set one by one.\n",
       "\n",
       "### What the Code Does\n",
       "\n",
       "When combined together, this code snippet does the following:\n",
       "- It gathers all unique authors from a collection of `books`, where each book is represented by a dictionary.\n",
       "- It only includes authors that are present (i.e., non-None) in the resulting set.\n",
       "- Each unique author is yielded one at a time when the generator is iterated over.\n",
       "\n",
       "### Why This Code is Useful\n",
       "\n",
       "1. **Efficiency**: By using a set comprehension, the authors are gathered uniquely, which avoids duplicates automatically. This can be more efficient than collecting authors in a list and then converting to a set later.\n",
       "2. **Generator Behavior**: Using `yield from` means that this generator can be used with other generators or can be consumed in an efficient manner without having to create an intermediate collection explicitly.\n",
       "3. **Readability**: The combination of a set comprehension and `yield from` makes the code concise and easy to read, clearly expressing the intent of collecting unique, valid authors from a list of books.\n",
       "\n",
       "### Example\n",
       "\n",
       "Imagine you have the following list of books:\n",
       "\n",
       "python\n",
       "books = [\n",
       "    {\"title\": \"Book 1\", \"author\": \"Author A\"},\n",
       "    {\"title\": \"Book 2\", \"author\": \"Author B\"},\n",
       "    {\"title\": \"Book 3\", \"author\": None},\n",
       "    {\"title\": \"Book 4\", \"author\": \"Author A\"},\n",
       "]\n",
       "\n",
       "\n",
       "Using the provided code will yield:\n",
       "- \"Author A\"\n",
       "- \"Author B\"\n",
       "\n",
       "The result will yield these authors only once each, and you would use it like this in a generator function:\n",
       "\n",
       "python\n",
       "def get_authors(books):\n",
       "    yield from {book.get(\"author\") for book in books if book.get(\"author\")}\n",
       "\n",
       "\n",
       "When calling `list(get_authors(books))`, you'll get `['Author A', 'Author B']`, which represents a collection of unique authors from the original list of books."
      ],
      "text/plain": [
       "<IPython.core.display.Markdown object>"
      ]
     },
     "metadata": {},
     "output_type": "display_data"
    }
   ],
   "source": [
    "# Get gpt-4o-mini to answer, with streaming\n",
    "\n",
    "stream = openai.chat.completions.create(model=MODEL_GPT, messages=messages,stream=True)\n",
    "    \n",
    "response = \"\"\n",
    "display_handle = display(Markdown(\"\"), display_id=True)\n",
    "for chunk in stream:\n",
    "    response += chunk.choices[0].delta.content or ''\n",
    "    response = response.replace(\"```\",\"\").replace(\"markdown\", \"\")\n",
    "    update_display(Markdown(response), display_id=display_handle.display_id)"
   ]
  },
  {
   "cell_type": "code",
   "execution_count": null,
   "id": "8f7c8ea8-4082-4ad0-8751-3301adcf6538",
   "metadata": {},
   "outputs": [],
   "source": [
    "# Get Llama 3.2 to answer\n",
    "\n",
    "response = ollama.chat(model=MODEL_LLAMA, messages=messages)\n",
    "reply = response['message']['content']\n",
    "display(Markdown(reply))"
   ]
  },
  {
   "cell_type": "markdown",
   "id": "7e14bcdb-b928-4b14-961e-9f7d8c7335bf",
   "metadata": {},
   "source": [
    "# Congratulations!\n",
    "\n",
    "You could make it better by taking in the question using  \n",
    "`my_question = input(\"Please enter your question:\")`\n",
    "\n",
    "And then creating the prompts and making the calls interactively."
   ]
  },
  {
   "cell_type": "code",
   "execution_count": null,
   "id": "da663d73-dd2a-4fff-84df-2209cf2b330b",
   "metadata": {},
   "outputs": [],
   "source": []
  }
 ],
 "metadata": {
  "kernelspec": {
   "display_name": "Python 3 (ipykernel)",
   "language": "python",
   "name": "python3"
  },
  "language_info": {
   "codemirror_mode": {
    "name": "ipython",
    "version": 3
   },
   "file_extension": ".py",
   "mimetype": "text/x-python",
   "name": "python",
   "nbconvert_exporter": "python",
   "pygments_lexer": "ipython3",
   "version": "3.11.12"
  }
 },
 "nbformat": 4,
 "nbformat_minor": 5
}
