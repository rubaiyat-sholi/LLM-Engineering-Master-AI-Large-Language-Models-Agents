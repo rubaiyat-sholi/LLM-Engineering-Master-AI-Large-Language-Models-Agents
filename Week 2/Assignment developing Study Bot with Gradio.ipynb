{
 "cells": [
  {
   "cell_type": "code",
   "execution_count": 1,
   "id": "af5ee72d-91b4-4c71-8def-93bd4b159f48",
   "metadata": {},
   "outputs": [],
   "source": [
    "# imports\n",
    "\n",
    "import os\n",
    "from dotenv import load_dotenv\n",
    "from openai import OpenAI\n",
    "import gradio as gr"
   ]
  },
  {
   "cell_type": "code",
   "execution_count": 2,
   "id": "57a19e96-90fd-41c9-86b9-4d853d35af81",
   "metadata": {},
   "outputs": [
    {
     "name": "stdout",
     "output_type": "stream",
     "text": [
      "OpenAI API Key exists and begins sk-proj-\n"
     ]
    }
   ],
   "source": [
    "# Load environment variables in a file called .env\n",
    "# Print the key prefixes to help with any debugging\n",
    "\n",
    "load_dotenv(override=True)\n",
    "openai_api_key = os.getenv('OPENAI_API_KEY')\n",
    "\n",
    "if openai_api_key:\n",
    "    print(f\"OpenAI API Key exists and begins {openai_api_key[:8]}\")\n",
    "else:\n",
    "    print(\"OpenAI API Key not set\")\n",
    "    "
   ]
  },
  {
   "cell_type": "code",
   "execution_count": 3,
   "id": "9d8cc20e-be7c-4803-b3e0-26ffd545b81c",
   "metadata": {},
   "outputs": [],
   "source": [
    "# Initialize\n",
    "\n",
    "openai = OpenAI()\n",
    "MODEL = 'gpt-4o-mini'"
   ]
  },
  {
   "cell_type": "code",
   "execution_count": 4,
   "id": "ee868461-3bd2-4aed-b9d6-488b00eb841c",
   "metadata": {},
   "outputs": [],
   "source": [
    "system_message = \"You are a helpful Study Bot and Explain coding concepts, math topics, and logic clearly.\""
   ]
  },
  {
   "cell_type": "code",
   "execution_count": 5,
   "id": "1a9b2539-7074-4897-8f7e-b796c842c18b",
   "metadata": {},
   "outputs": [],
   "source": [
    "# Simpler than in my video - we can easily create this function that calls OpenAI\n",
    "# It's now just 1 line of code to prepare the input to OpenAI!\n",
    "\n",
    "# Student Octavio O. has pointed out that this isn't quite as straightforward for Claude -\n",
    "# see the excellent contribution in community-contributions \"Gradio_issue_with_Claude\" that handles Claude.\n",
    "\n",
    "def ask_study_chat(message, history):\n",
    "    messages = [{\"role\": \"system\", \"content\": system_message}] + history + [{\"role\": \"user\", \"content\": message}]\n",
    "\n",
    "    print(\"History is:\")\n",
    "    print(history)\n",
    "    print(\"And messages is:\")\n",
    "    print(messages)\n",
    "\n",
    "    stream = openai.chat.completions.create(model=MODEL, messages=messages, stream=True)\n",
    "\n",
    "    response = \"\"\n",
    "    for chunk in stream:\n",
    "        response += chunk.choices[0].delta.content or ''\n",
    "        yield response"
   ]
  },
  {
   "cell_type": "code",
   "execution_count": 6,
   "id": "56e8b476-c187-47d2-8faf-050be8b43661",
   "metadata": {},
   "outputs": [
    {
     "name": "stdout",
     "output_type": "stream",
     "text": [
      "* Running on local URL:  http://127.0.0.1:7860\n",
      "* To create a public link, set `share=True` in `launch()`.\n"
     ]
    },
    {
     "data": {
      "text/html": [
       "<div><iframe src=\"http://127.0.0.1:7860/\" width=\"100%\" height=\"500\" allow=\"autoplay; camera; microphone; clipboard-read; clipboard-write;\" frameborder=\"0\" allowfullscreen></iframe></div>"
      ],
      "text/plain": [
       "<IPython.core.display.HTML object>"
      ]
     },
     "metadata": {},
     "output_type": "display_data"
    },
    {
     "data": {
      "text/plain": []
     },
     "execution_count": 6,
     "metadata": {},
     "output_type": "execute_result"
    },
    {
     "name": "stdout",
     "output_type": "stream",
     "text": [
      "History is:\n",
      "[]\n",
      "And messages is:\n",
      "[{'role': 'system', 'content': 'You are a helpful Study Bot and Explain coding concepts, math topics, and logic clearly.'}, {'role': 'user', 'content': 'hi'}]\n",
      "History is:\n",
      "[{'role': 'user', 'metadata': None, 'content': 'hi', 'options': None}, {'role': 'assistant', 'metadata': None, 'content': \"Hello! How can I assist you today? Whether you have questions about coding, math, or logic, I'm here to help!\", 'options': None}]\n",
      "And messages is:\n",
      "[{'role': 'system', 'content': 'You are a helpful Study Bot and Explain coding concepts, math topics, and logic clearly.'}, {'role': 'user', 'metadata': None, 'content': 'hi', 'options': None}, {'role': 'assistant', 'metadata': None, 'content': \"Hello! How can I assist you today? Whether you have questions about coding, math, or logic, I'm here to help!\", 'options': None}, {'role': 'user', 'content': 'can you tell me what loop is in python with an example?'}]\n"
     ]
    },
    {
     "name": "stderr",
     "output_type": "stream",
     "text": [
      "Traceback (most recent call last):\n",
      "  File \"C:\\Users\\rubai\\anaconda3\\envs\\llms\\Lib\\site-packages\\gradio\\queueing.py\", line 715, in process_events\n",
      "    response = await route_utils.call_process_api(\n",
      "               ^^^^^^^^^^^^^^^^^^^^^^^^^^^^^^^^^^^\n",
      "  File \"C:\\Users\\rubai\\anaconda3\\envs\\llms\\Lib\\site-packages\\gradio\\route_utils.py\", line 322, in call_process_api\n",
      "    output = await app.get_blocks().process_api(\n",
      "             ^^^^^^^^^^^^^^^^^^^^^^^^^^^^^^^^^^^\n",
      "  File \"C:\\Users\\rubai\\anaconda3\\envs\\llms\\Lib\\site-packages\\gradio\\blocks.py\", line 2146, in process_api\n",
      "    result = await self.call_function(\n",
      "             ^^^^^^^^^^^^^^^^^^^^^^^^^\n",
      "  File \"C:\\Users\\rubai\\anaconda3\\envs\\llms\\Lib\\site-packages\\gradio\\blocks.py\", line 1676, in call_function\n",
      "    prediction = await utils.async_iteration(iterator)\n",
      "                 ^^^^^^^^^^^^^^^^^^^^^^^^^^^^^^^^^^^^^\n",
      "  File \"C:\\Users\\rubai\\anaconda3\\envs\\llms\\Lib\\site-packages\\gradio\\utils.py\", line 729, in async_iteration\n",
      "    return await anext(iterator)\n",
      "           ^^^^^^^^^^^^^^^^^^^^^\n",
      "  File \"C:\\Users\\rubai\\anaconda3\\envs\\llms\\Lib\\site-packages\\gradio\\utils.py\", line 834, in asyncgen_wrapper\n",
      "    response = await iterator.__anext__()\n",
      "               ^^^^^^^^^^^^^^^^^^^^^^^^^^\n",
      "  File \"C:\\Users\\rubai\\anaconda3\\envs\\llms\\Lib\\site-packages\\gradio\\chat_interface.py\", line 925, in _stream_fn\n",
      "    async for response in generator:\n",
      "  File \"C:\\Users\\rubai\\anaconda3\\envs\\llms\\Lib\\site-packages\\gradio\\utils.py\", line 723, in __anext__\n",
      "    return await anyio.to_thread.run_sync(\n",
      "           ^^^^^^^^^^^^^^^^^^^^^^^^^^^^^^^\n",
      "  File \"C:\\Users\\rubai\\anaconda3\\envs\\llms\\Lib\\site-packages\\anyio\\to_thread.py\", line 56, in run_sync\n",
      "    return await get_async_backend().run_sync_in_worker_thread(\n",
      "           ^^^^^^^^^^^^^^^^^^^^^^^^^^^^^^^^^^^^^^^^^^^^^^^^^^^^\n",
      "  File \"C:\\Users\\rubai\\anaconda3\\envs\\llms\\Lib\\site-packages\\anyio\\_backends\\_asyncio.py\", line 2470, in run_sync_in_worker_thread\n",
      "    return await future\n",
      "           ^^^^^^^^^^^^\n",
      "  File \"C:\\Users\\rubai\\anaconda3\\envs\\llms\\Lib\\site-packages\\anyio\\_backends\\_asyncio.py\", line 967, in run\n",
      "    result = context.run(func, *args)\n",
      "             ^^^^^^^^^^^^^^^^^^^^^^^^\n",
      "  File \"C:\\Users\\rubai\\anaconda3\\envs\\llms\\Lib\\site-packages\\gradio\\utils.py\", line 706, in run_sync_iterator_async\n",
      "    return next(iterator)\n",
      "           ^^^^^^^^^^^^^^\n",
      "  File \"C:\\Users\\rubai\\AppData\\Local\\Temp\\ipykernel_10612\\3380412478.py\", line 18, in ask_study_chat\n",
      "    for chunk in stream:\n",
      "  File \"C:\\Users\\rubai\\anaconda3\\envs\\llms\\Lib\\site-packages\\openai\\_streaming.py\", line 46, in __iter__\n",
      "    for item in self._iterator:\n",
      "  File \"C:\\Users\\rubai\\anaconda3\\envs\\llms\\Lib\\site-packages\\openai\\_streaming.py\", line 72, in __stream__\n",
      "    raise APIError(\n",
      "openai.APIError: The server had an error while processing your request. Sorry about that!\n"
     ]
    }
   ],
   "source": [
    "gr.ChatInterface(fn=ask_study_chat, type=\"messages\",  description=\"Ask me about Python, math, logic, and more. I'll help you learn step-by-step!\").launch()"
   ]
  },
  {
   "cell_type": "code",
   "execution_count": null,
   "id": "b42f5420-ffd0-46f7-ab91-35ff2e386389",
   "metadata": {},
   "outputs": [],
   "source": []
  },
  {
   "cell_type": "code",
   "execution_count": 7,
   "id": "d8d2a021-ae18-463d-a312-f5f2326cd5a6",
   "metadata": {},
   "outputs": [],
   "source": [
    "# Initialize\n",
    "\n",
    "openai = OpenAI()\n",
    "MODEL = 'gpt-4o'"
   ]
  },
  {
   "cell_type": "code",
   "execution_count": 8,
   "id": "9d75ad48-a05c-460a-a83e-3438a03787b9",
   "metadata": {},
   "outputs": [],
   "source": [
    "system_message = \"You are a helpful Study Bot and Explain coding concepts, math topics, and logic clearly.\""
   ]
  },
  {
   "cell_type": "code",
   "execution_count": 9,
   "id": "24931a4d-54c9-42c7-b97d-7cd383ca0090",
   "metadata": {},
   "outputs": [],
   "source": [
    "# Simpler than in my video - we can easily create this function that calls OpenAI\n",
    "# It's now just 1 line of code to prepare the input to OpenAI!\n",
    "\n",
    "# Student Octavio O. has pointed out that this isn't quite as straightforward for Claude -\n",
    "# see the excellent contribution in community-contributions \"Gradio_issue_with_Claude\" that handles Claude.\n",
    "\n",
    "def ask_study_chat(message, history):\n",
    "    messages = [{\"role\": \"system\", \"content\": system_message}] + history + [{\"role\": \"user\", \"content\": message}]\n",
    "\n",
    "    print(\"History is:\")\n",
    "    print(history)\n",
    "    print(\"And messages is:\")\n",
    "    print(messages)\n",
    "\n",
    "    stream = openai.chat.completions.create(model=MODEL, messages=messages, stream=True)\n",
    "\n",
    "    response = \"\"\n",
    "    for chunk in stream:\n",
    "        response += chunk.choices[0].delta.content or ''\n",
    "        yield response"
   ]
  },
  {
   "cell_type": "code",
   "execution_count": 10,
   "id": "08815799-6bc0-46fc-ad88-e327158f2399",
   "metadata": {},
   "outputs": [
    {
     "name": "stdout",
     "output_type": "stream",
     "text": [
      "* Running on local URL:  http://127.0.0.1:7861\n",
      "* To create a public link, set `share=True` in `launch()`.\n"
     ]
    },
    {
     "data": {
      "text/html": [
       "<div><iframe src=\"http://127.0.0.1:7861/\" width=\"100%\" height=\"500\" allow=\"autoplay; camera; microphone; clipboard-read; clipboard-write;\" frameborder=\"0\" allowfullscreen></iframe></div>"
      ],
      "text/plain": [
       "<IPython.core.display.HTML object>"
      ]
     },
     "metadata": {},
     "output_type": "display_data"
    },
    {
     "data": {
      "text/plain": []
     },
     "execution_count": 10,
     "metadata": {},
     "output_type": "execute_result"
    },
    {
     "name": "stdout",
     "output_type": "stream",
     "text": [
      "History is:\n",
      "[]\n",
      "And messages is:\n",
      "[{'role': 'system', 'content': 'You are a helpful Study Bot and Explain coding concepts, math topics, and logic clearly.'}, {'role': 'user', 'content': 'hi'}]\n",
      "History is:\n",
      "[{'role': 'user', 'metadata': None, 'content': 'hi', 'options': None}, {'role': 'assistant', 'metadata': None, 'content': \"Hello! How can I assist you today? Whether it's a question about coding, math, or another topic, feel free to ask!\", 'options': None}]\n",
      "And messages is:\n",
      "[{'role': 'system', 'content': 'You are a helpful Study Bot and Explain coding concepts, math topics, and logic clearly.'}, {'role': 'user', 'metadata': None, 'content': 'hi', 'options': None}, {'role': 'assistant', 'metadata': None, 'content': \"Hello! How can I assist you today? Whether it's a question about coding, math, or another topic, feel free to ask!\", 'options': None}, {'role': 'user', 'content': 'can you tell me what loop is in python with an example?'}]\n"
     ]
    }
   ],
   "source": [
    "gr.ChatInterface(fn=ask_study_chat, type=\"messages\",  description=\"Ask me about Python, math, logic, and more. I'll help you learn step-by-step!\").launch()"
   ]
  },
  {
   "cell_type": "code",
   "execution_count": null,
   "id": "0a9169f9-baac-4c4e-92c4-3d0f12e5723a",
   "metadata": {},
   "outputs": [],
   "source": []
  },
  {
   "cell_type": "code",
   "execution_count": 11,
   "id": "a2e88e7b-f6a5-4365-b040-bf5b3d7c54db",
   "metadata": {},
   "outputs": [],
   "source": [
    "# Initialize\n",
    "\n",
    "openai = OpenAI()\n",
    "MODEL = 'gpt-3.5-turbo'"
   ]
  },
  {
   "cell_type": "code",
   "execution_count": 12,
   "id": "c32db176-8e6e-4aeb-b304-59c97fa5ba3a",
   "metadata": {},
   "outputs": [],
   "source": [
    "system_message = \"You are a helpful Study Bot and Explain coding concepts, math topics, and logic clearly.\""
   ]
  },
  {
   "cell_type": "code",
   "execution_count": 13,
   "id": "d8d4008a-d72b-4b4c-9f8a-392a2c7f06de",
   "metadata": {},
   "outputs": [],
   "source": [
    "# Simpler than in my video - we can easily create this function that calls OpenAI\n",
    "# It's now just 1 line of code to prepare the input to OpenAI!\n",
    "\n",
    "# Student Octavio O. has pointed out that this isn't quite as straightforward for Claude -\n",
    "# see the excellent contribution in community-contributions \"Gradio_issue_with_Claude\" that handles Claude.\n",
    "\n",
    "def ask_study_chat(message, history):\n",
    "    messages = [{\"role\": \"system\", \"content\": system_message}] + history + [{\"role\": \"user\", \"content\": message}]\n",
    "\n",
    "    print(\"History is:\")\n",
    "    print(history)\n",
    "    print(\"And messages is:\")\n",
    "    print(messages)\n",
    "\n",
    "    stream = openai.chat.completions.create(model=MODEL, messages=messages, stream=True)\n",
    "\n",
    "    response = \"\"\n",
    "    for chunk in stream:\n",
    "        response += chunk.choices[0].delta.content or ''\n",
    "        yield response"
   ]
  },
  {
   "cell_type": "code",
   "execution_count": 14,
   "id": "410e0f30-fe79-47e1-af52-f788cfc867c7",
   "metadata": {},
   "outputs": [
    {
     "name": "stdout",
     "output_type": "stream",
     "text": [
      "* Running on local URL:  http://127.0.0.1:7862\n",
      "* To create a public link, set `share=True` in `launch()`.\n"
     ]
    },
    {
     "data": {
      "text/html": [
       "<div><iframe src=\"http://127.0.0.1:7862/\" width=\"100%\" height=\"500\" allow=\"autoplay; camera; microphone; clipboard-read; clipboard-write;\" frameborder=\"0\" allowfullscreen></iframe></div>"
      ],
      "text/plain": [
       "<IPython.core.display.HTML object>"
      ]
     },
     "metadata": {},
     "output_type": "display_data"
    },
    {
     "data": {
      "text/plain": []
     },
     "execution_count": 14,
     "metadata": {},
     "output_type": "execute_result"
    },
    {
     "name": "stdout",
     "output_type": "stream",
     "text": [
      "History is:\n",
      "[]\n",
      "And messages is:\n",
      "[{'role': 'system', 'content': 'You are a helpful Study Bot and Explain coding concepts, math topics, and logic clearly.'}, {'role': 'user', 'content': 'hi'}]\n",
      "History is:\n",
      "[{'role': 'user', 'metadata': None, 'content': 'hi', 'options': None}, {'role': 'assistant', 'metadata': None, 'content': 'Hello! How can I help you today?', 'options': None}]\n",
      "And messages is:\n",
      "[{'role': 'system', 'content': 'You are a helpful Study Bot and Explain coding concepts, math topics, and logic clearly.'}, {'role': 'user', 'metadata': None, 'content': 'hi', 'options': None}, {'role': 'assistant', 'metadata': None, 'content': 'Hello! How can I help you today?', 'options': None}, {'role': 'user', 'content': 'can you tell me what loop is in python with an example?'}]\n",
      "History is:\n",
      "[{'role': 'user', 'metadata': None, 'content': 'hi', 'options': None}, {'role': 'assistant', 'metadata': None, 'content': \"Hello! How can I assist you today? Whether you have questions about coding, math, or logic, I'm here to help!\", 'options': None}, {'role': 'user', 'metadata': None, 'content': 'can you tell me what loop is in python with an example?', 'options': None}, {'role': 'assistant', 'metadata': None, 'content': 'Certainly! A loop in Python is a control structure that allows you to execute a block of code repeatedly, based on a condition or for a specific number of iterations. There are two main types of loops in Python:\\n\\n1. **`for` loop**: This loop iterates over a sequence (like a list, tuple, string, or range) and executes the block of code for each item in that sequence.\\n  \\n2. **`while` loop**: This loop continues to execute as long as a specified condition is `True`.\\n\\n### Example of a `for` loop\\n\\nHere’s an example of a `for` loop that prints each item in a list:\\n\\n```python\\nfruits = [\"apple\", \"banana\", \"cherry\"]\\n\\nfor fruit in fruits:\\n    print(fruit)\\n```\\n\\n**Output:**\\n```\\napple\\nbanana\\ncherry\\n```\\n\\nIn this example, `for fruit in fruits` iterates through each item in the `fruits` list and assigns it to the variable `fruit`, which is then printed.\\n\\n### Example of a `while` loop\\n\\nHere’s an example of a', 'options': None}]\n",
      "And messages is:\n",
      "[{'role': 'system', 'content': 'You are a helpful Study Bot and Explain coding concepts, math topics, and logic clearly.'}, {'role': 'user', 'metadata': None, 'content': 'hi', 'options': None}, {'role': 'assistant', 'metadata': None, 'content': \"Hello! How can I assist you today? Whether you have questions about coding, math, or logic, I'm here to help!\", 'options': None}, {'role': 'user', 'metadata': None, 'content': 'can you tell me what loop is in python with an example?', 'options': None}, {'role': 'assistant', 'metadata': None, 'content': 'Certainly! A loop in Python is a control structure that allows you to execute a block of code repeatedly, based on a condition or for a specific number of iterations. There are two main types of loops in Python:\\n\\n1. **`for` loop**: This loop iterates over a sequence (like a list, tuple, string, or range) and executes the block of code for each item in that sequence.\\n  \\n2. **`while` loop**: This loop continues to execute as long as a specified condition is `True`.\\n\\n### Example of a `for` loop\\n\\nHere’s an example of a `for` loop that prints each item in a list:\\n\\n```python\\nfruits = [\"apple\", \"banana\", \"cherry\"]\\n\\nfor fruit in fruits:\\n    print(fruit)\\n```\\n\\n**Output:**\\n```\\napple\\nbanana\\ncherry\\n```\\n\\nIn this example, `for fruit in fruits` iterates through each item in the `fruits` list and assigns it to the variable `fruit`, which is then printed.\\n\\n### Example of a `while` loop\\n\\nHere’s an example of a', 'options': None}, {'role': 'user', 'content': 'can you tell me what recursion is in python with an example?'}]\n"
     ]
    }
   ],
   "source": [
    "gr.ChatInterface(fn=ask_study_chat, type=\"messages\",  description=\"Ask me about Python, math, logic, and more. I'll help you learn step-by-step!\").launch()"
   ]
  },
  {
   "cell_type": "code",
   "execution_count": null,
   "id": "c7914435-3615-4567-9c26-6dbe3f933ab4",
   "metadata": {},
   "outputs": [],
   "source": []
  },
  {
   "cell_type": "code",
   "execution_count": null,
   "id": "e9ba1c36-5a56-45bf-a2f0-fa246facb6ce",
   "metadata": {},
   "outputs": [],
   "source": []
  }
 ],
 "metadata": {
  "kernelspec": {
   "display_name": "Python 3 (ipykernel)",
   "language": "python",
   "name": "python3"
  },
  "language_info": {
   "codemirror_mode": {
    "name": "ipython",
    "version": 3
   },
   "file_extension": ".py",
   "mimetype": "text/x-python",
   "name": "python",
   "nbconvert_exporter": "python",
   "pygments_lexer": "ipython3",
   "version": "3.11.12"
  }
 },
 "nbformat": 4,
 "nbformat_minor": 5
}
